{
 "cells": [
  {
   "cell_type": "markdown",
   "metadata": {},
   "source": [
    "# Data transformation: Normalization/Standardization/Discretization"
   ]
  },
  {
   "cell_type": "markdown",
   "metadata": {},
   "source": [
    "### Import libraries"
   ]
  },
  {
   "cell_type": "code",
   "execution_count": 6,
   "metadata": {},
   "outputs": [],
   "source": [
    "import pandas as pd\n",
    "import numpy as np\n",
    "import matplotlib.pyplot as plt\n",
    "import seaborn as sns\n",
    "from sklearn.metrics import classification_report\n",
    "from sklearn.metrics import accuracy_score, precision_score, recall_score, roc_auc_score\n",
    "from sklearn.preprocessing import StandardScaler, RobustScaler, Normalizer, KBinsDiscretizer\n",
    "from sklearn import preprocessing\n",
    "from sklearn.model_selection import cross_validate\n",
    "from sklearn.naive_bayes import GaussianNB\n",
    "from sklearn.neighbors import KNeighborsClassifier\n",
    "from sklearn.neural_network import MLPClassifier\n",
    "from sklearn.svm import SVC, LinearSVC\n",
    "from sklearn.tree import DecisionTreeClassifier\n",
    "from sklearn.gaussian_process import GaussianProcessClassifier\n",
    "from sklearn.linear_model import LogisticRegression, LinearRegression, SGDClassifier\n",
    "from sklearn.ensemble import RandomForestClassifier, AdaBoostClassifier\n",
    "from sklearn.preprocessing import OrdinalEncoder\n",
    "\n",
    "from sklearn.exceptions import ConvergenceWarning\n",
    "\n",
    "%matplotlib inline"
   ]
  },
  {
   "cell_type": "markdown",
   "metadata": {},
   "source": [
    "### Load data"
   ]
  },
  {
   "cell_type": "code",
   "execution_count": 7,
   "metadata": {},
   "outputs": [],
   "source": [
    "salaryClassification = pd.read_csv('data/training.csv', sep = ';')\n",
    "\n",
    "#treat missing values\n",
    "salaryClassification = salaryClassification.replace(' ?', np.NaN)\n",
    "salaryClassification[' workclass'] = salaryClassification[' workclass'].replace(np.NaN, 'Unknown')\n",
    "salaryClassification[' occupation'] = salaryClassification[' occupation'].replace(np.NaN, 'Other')\n",
    "salaryClassification[' native-country'] = salaryClassification[' native-country'].replace(np.NaN, 'Other')\n",
    "\n",
    "\n",
    "#convert 'workclass' from categorical to numeric\n",
    "oe = OrdinalEncoder()\n",
    "salaryClassification[\"workclass\"] = oe.fit_transform(salaryClassification[[\" workclass\"]]).astype(int)\n",
    "salaryClassification = salaryClassification.drop(' workclass', 1)\n",
    "\n",
    "#fix column names\n",
    "salaryClassification['fnlwgt'] = salaryClassification[' fnlwgt']\n",
    "salaryClassification = salaryClassification.drop(' fnlwgt',1)\n",
    "\n",
    "#convert 'education' from categorical to numeric\n",
    "oe = OrdinalEncoder()\n",
    "salaryClassification[\"education\"] = oe.fit_transform(salaryClassification[[\" education\"]]).astype(int)\n",
    "salaryClassification = salaryClassification.drop(' education', 1)\n",
    "\n",
    "#fix column names\n",
    "salaryClassification['education-num'] = salaryClassification[' education-num']\n",
    "salaryClassification = salaryClassification.drop(' education-num',1)\n",
    "\n",
    "#convert 'education' from categorical to numeric\n",
    "oe = OrdinalEncoder()\n",
    "salaryClassification[\"marital-status\"] = oe.fit_transform(salaryClassification[[\" marital-status\"]]).astype(int)\n",
    "salaryClassification = salaryClassification.drop(' marital-status', 1)\n",
    "\n",
    "#convert 'occupation'n' from categorical to numeric\n",
    "oe = OrdinalEncoder()\n",
    "salaryClassification[\"occupation\"] = oe.fit_transform(salaryClassification[[\" occupation\"]]).astype(int)\n",
    "salaryClassification = salaryClassification.drop(' occupation', 1)\n",
    "\n",
    "#convert 'relationship'n' from categorical to numeric\n",
    "oe = OrdinalEncoder()\n",
    "salaryClassification[\"relationship\"] = oe.fit_transform(salaryClassification[[\" relationship\"]]).astype(int)\n",
    "salaryClassification = salaryClassification.drop(' relationship', 1)\n",
    "\n",
    "#convert 'race'n' from categorical to numeric\n",
    "oe = OrdinalEncoder()\n",
    "salaryClassification[\"race\"] = oe.fit_transform(salaryClassification[[\" race\"]]).astype(int)\n",
    "salaryClassification = salaryClassification.drop(' race', 1)\n",
    "\n",
    "#convert 'sex'n' from categorical to numeric\n",
    "oe = OrdinalEncoder()\n",
    "salaryClassification[\"sex\"] = oe.fit_transform(salaryClassification[[\" sex\"]]).astype(int)\n",
    "salaryClassification = salaryClassification.drop(' sex', 1)\n",
    "\n",
    "#join 2 columns(capital-gain and  capital-loss) in one\n",
    "salaryClassification['capital-diff'] = salaryClassification[' capital-gain'] - salaryClassification[' capital-loss']\n",
    "salaryClassification = salaryClassification.drop(' capital-gain', 1)\n",
    "salaryClassification = salaryClassification.drop(' capital-loss', 1)\n",
    "\n",
    "#fix column names\n",
    "salaryClassification['hours-per-week'] = salaryClassification[' hours-per-week']\n",
    "salaryClassification = salaryClassification.drop(' hours-per-week',1)\n",
    "\n",
    "\n",
    "#convert 'native-country' from categorical to numeric\n",
    "oe = OrdinalEncoder()\n",
    "salaryClassification[\"native-county\"] = oe.fit_transform(salaryClassification[[\" native-country\"]]).astype(int)\n",
    "salaryClassification = salaryClassification.drop(' native-country', 1)\n",
    "\n",
    "\n",
    "#convert salary-classification' from categorical to numeric\n",
    "salaryClassification[' salary-classification'] = [x.replace(' <=50K', '0') for x in salaryClassification[' salary-classification']]\n",
    "salaryClassification[' salary-classification'] = [x.replace(' >50K', '1') for x in salaryClassification[' salary-classification']]\n",
    "salaryClassification[' salary-classification'] = salaryClassification[' salary-classification'].astype(int)\n",
    "\n",
    "salaryClassification['salary-classification'] = salaryClassification[' salary-classification']\n",
    "salaryClassification = salaryClassification.drop(' salary-classification',1)\n",
    "\n",
    "\n",
    "\n",
    "## teste \n",
    "\n",
    "testData = pd.read_csv('data/test.csv', sep = ';')\n",
    "\n",
    "#treat missing values\n",
    "testData = testData.replace(' ?', np.NaN)\n",
    "testData[' workclass'] = testData[' workclass'].replace(np.NaN, 'Unknown')\n",
    "testData[' occupation'] = testData[' occupation'].replace(np.NaN, 'Other')\n",
    "testData[' native-country'] = testData[' native-country'].replace(np.NaN, 'Other')\n",
    "\n",
    "\n",
    "#convert 'workclass' from categorical to numeric\n",
    "oe = OrdinalEncoder()\n",
    "testData[\"workclass\"] = oe.fit_transform(testData[[\" workclass\"]]).astype(int)\n",
    "testData = testData.drop(' workclass', 1)\n",
    "\n",
    "#fix column name\n",
    "testData['fnlwgt'] = testData[' fnlwgt']\n",
    "testData = testData.drop(' fnlwgt',1)\n",
    "\n",
    "#convert 'education' from categorical to numeric\n",
    "oe = OrdinalEncoder()\n",
    "testData[\"education\"] = oe.fit_transform(testData[[\" education\"]]).astype(int)\n",
    "testData = testData.drop(' education', 1)\n",
    "\n",
    "#fix column name\n",
    "testData['education-num'] = testData[' education-num']\n",
    "testData = testData.drop(' education-num',1)\n",
    "\n",
    "#convert 'education' from categorical to numeric\n",
    "oe = OrdinalEncoder()\n",
    "testData[\"marital-status\"] = oe.fit_transform(testData[[\" marital-status\"]]).astype(int)\n",
    "testData = testData.drop(' marital-status', 1)\n",
    "\n",
    "#convert 'occupation'n' from categorical to numeric\n",
    "oe = OrdinalEncoder()\n",
    "testData[\"occupation\"] = oe.fit_transform(testData[[\" occupation\"]]).astype(int)\n",
    "testData = testData.drop(' occupation', 1)\n",
    "\n",
    "#convert 'relationship'n' from categorical to numeric\n",
    "oe = OrdinalEncoder()\n",
    "testData[\"relationship\"] = oe.fit_transform(testData[[\" relationship\"]]).astype(int)\n",
    "testData = testData.drop(' relationship', 1)\n",
    "\n",
    "#convert 'race'n' from categorical to numeric\n",
    "oe = OrdinalEncoder()\n",
    "testData[\"race\"] = oe.fit_transform(testData[[\" race\"]]).astype(int)\n",
    "testData = testData.drop(' race', 1)\n",
    "\n",
    "#convert 'sex'n' from categorical to numeric\n",
    "oe = OrdinalEncoder()\n",
    "testData[\"sex\"] = oe.fit_transform(testData[[\" sex\"]]).astype(int)\n",
    "testData = testData.drop(' sex', 1)\n",
    "\n",
    "#join 2 columns(capital-gain and  capital-loss) in one\n",
    "testData['capital-diff'] = testData[' capital-gain'] - testData[' capital-loss']\n",
    "testData = testData.drop(' capital-gain', 1)\n",
    "testData = testData.drop(' capital-loss', 1)\n",
    "\n",
    "#fix column name\n",
    "testData['hours-per-week'] = testData[' hours-per-week']\n",
    "testData = testData.drop(' hours-per-week',1)\n",
    "\n",
    "\n",
    "#convert 'native-country' from categorical to numeric\n",
    "oe = OrdinalEncoder()\n",
    "testData[\"native-county\"] = oe.fit_transform(testData[[\" native-country\"]]).astype(int)\n",
    "testData = testData.drop(' native-country', 1)\n",
    "\n",
    "\n",
    "#convert salary-classification' from categorical to numeric\n",
    "testData[' salary-classification'] = [x.replace(' <=50K', '0') for x in testData[' salary-classification']]\n",
    "testData[' salary-classification'] = [x.replace(' >50K', '1') for x in testData[' salary-classification']]\n",
    "testData[' salary-classification'] = testData[' salary-classification'].astype(int)\n",
    "\n",
    "testData['salary-classification'] = testData[' salary-classification']\n",
    "testData = testData.drop(' salary-classification',1)"
   ]
  },
  {
   "cell_type": "markdown",
   "metadata": {},
   "source": [
    "# Standardization"
   ]
  },
  {
   "cell_type": "code",
   "execution_count": 1,
   "metadata": {},
   "outputs": [],
   "source": [
    "def standardScaling(train):\n",
    "    scaler = StandardScaler()\n",
    "    scaled_data = scaler.fit_transform(train)\n",
    "    return train;\n",
    "\n",
    "\n",
    "def robustScaling(train):\n",
    "    scaler = RobustScaler()\n",
    "    scaled_data = scaler.fit_transform(train)\n",
    "    return train;"
   ]
  },
  {
   "cell_type": "markdown",
   "metadata": {},
   "source": [
    "# Discretization"
   ]
  },
  {
   "cell_type": "code",
   "execution_count": 4,
   "metadata": {},
   "outputs": [],
   "source": [
    "def discretize(train):\n",
    "    ftd = ['age', 'hours-per-week', 'education-num', 'capital-diff']\n",
    "    discretizer = KBinsDiscretizer(n_bins=3, encode='ordinal', strategy='uniform')\n",
    "    train[ftd] = discretizer.fit_transform(train[ftd])\n",
    "    return train;"
   ]
  },
  {
   "cell_type": "markdown",
   "metadata": {},
   "source": [
    "# Normalization"
   ]
  },
  {
   "cell_type": "code",
   "execution_count": 5,
   "metadata": {},
   "outputs": [],
   "source": [
    "def normalize(train):\n",
    "    ftd = ['age', 'hours-per-week', 'education-num', 'capital-diff']\n",
    "    train[ftd] = transformer = Normalizer().fit_transform(train[ftd])\n",
    "    return train;"
   ]
  },
  {
   "cell_type": "code",
   "execution_count": null,
   "metadata": {},
   "outputs": [],
   "source": [
    "def discretizeAndScale(X_train):\n",
    "    X_train = discretize(X_train)\n",
    "    X_train = robustScaling(X_train)\n",
    "    return X_train;"
   ]
  },
  {
   "cell_type": "markdown",
   "metadata": {},
   "source": [
    "# Avaliação"
   ]
  },
  {
   "cell_type": "code",
   "execution_count": 9,
   "metadata": {},
   "outputs": [],
   "source": [
    "#removed linear svm. \n",
    "def evaluateTechnique(transformer):\n",
    "    X_train = salaryClassification\n",
    "    y_train =  salaryClassification['salary-classification']\n",
    "\n",
    "    X_train = transformer(X_train)\n",
    "    classifiers = [\n",
    "        LogisticRegression(max_iter=1000),\n",
    "        SGDClassifier(),\n",
    "        KNeighborsClassifier(n_neighbors=5),\n",
    "        SVC(max_iter=10000),\n",
    "\n",
    "        GaussianNB(),\n",
    "        DecisionTreeClassifier(),\n",
    "        MLPClassifier(max_iter=10000),\n",
    "        AdaBoostClassifier(),\n",
    "        RandomForestClassifier(),\n",
    "    ]\n",
    "\n",
    "    names = [\"Logistic regression\", \"SGDClassifier\",\n",
    "             \"KNearest Neighbors (5)\", \n",
    "             \"SVM-rbf\", \n",
    "             \"Gaussian naive bayes\",\n",
    "             \"Decision Tree\", \n",
    "             \"Multi-layer Perceptron\", \n",
    "             \"AdaBoost\", \"Random Forest\"]\n",
    "            \n",
    "\n",
    "\n",
    "    for name, clf in zip(names, classifiers):\n",
    "        scores = cross_validate(clf, X_train, y_train, cv=5, scoring={'accuracy', 'roc_auc'})\n",
    "        print(\"Accuracy: %0.3f (+/- %0.3f) || AUROC %0.3f ->\" % (scores['test_accuracy'].mean(), scores['test_accuracy'].std() * 2, scores['test_roc_auc'].mean()), name)\n",
    "        \n",
    "    return;"
   ]
  },
  {
   "cell_type": "code",
   "execution_count": 10,
   "metadata": {
    "scrolled": true
   },
   "outputs": [
    {
     "name": "stdout",
     "output_type": "stream",
     "text": [
      "Accuracy: 0.785 (+/- 0.016) || AUROC 0.683 -> Logistic regression\n",
      "Accuracy: 0.670 (+/- 0.429) || AUROC 0.565 -> SGDClassifier\n",
      "Accuracy: 0.777 (+/- 0.003) || AUROC 0.672 -> KNearest Neighbors (5)\n",
      "Accuracy: 0.793 (+/- 0.002) || AUROC 0.564 -> SVM-rbf\n",
      "Accuracy: 0.796 (+/- 0.006) || AUROC 0.846 -> Gaussian naive bayes\n",
      "Accuracy: 1.000 (+/- 0.000) || AUROC 1.000 -> Decision Tree\n",
      "Accuracy: 0.816 (+/- 0.043) || AUROC 0.772 -> Multi-layer Perceptron\n",
      "Accuracy: 1.000 (+/- 0.000) || AUROC 1.000 -> AdaBoost\n",
      "Accuracy: 1.000 (+/- 0.000) || AUROC 1.000 -> Random Forest\n"
     ]
    }
   ],
   "source": [
    "evaluateTechnique(standardScaling)"
   ]
  },
  {
   "cell_type": "code",
   "execution_count": 18,
   "metadata": {},
   "outputs": [
    {
     "name": "stdout",
     "output_type": "stream",
     "text": [
      "Accuracy: 0.759 (+/- 0.000) || AUROC 0.507 -> Logistic regression\n",
      "Accuracy: 0.552 (+/- 0.508) || AUROC 0.508 -> SGDClassifier\n",
      "Accuracy: 0.718 (+/- 0.007) || AUROC 0.562 -> KNearest Neighbors (5)\n",
      "Accuracy: 0.759 (+/- 0.000) || AUROC 0.475 -> SVM-rbf\n",
      "Accuracy: 0.759 (+/- 0.000) || AUROC 0.803 -> Gaussian naive bayes\n",
      "Accuracy: 1.000 (+/- 0.000) || AUROC 1.000 -> Decision Tree\n",
      "Accuracy: 0.657 (+/- 0.404) || AUROC 0.634 -> Multi-layer Perceptron\n",
      "Accuracy: 1.000 (+/- 0.000) || AUROC 1.000 -> AdaBoost\n",
      "Accuracy: 1.000 (+/- 0.000) || AUROC 1.000 -> Random Forest\n"
     ]
    }
   ],
   "source": [
    "evaluateTechnique(robustScaling)"
   ]
  },
  {
   "cell_type": "code",
   "execution_count": 19,
   "metadata": {},
   "outputs": [
    {
     "name": "stdout",
     "output_type": "stream",
     "text": [
      "Accuracy: 0.759 (+/- 0.000) || AUROC 0.507 -> Logistic regression\n",
      "Accuracy: 0.759 (+/- 0.000) || AUROC 0.507 -> SGDClassifier\n",
      "Accuracy: 0.718 (+/- 0.007) || AUROC 0.562 -> KNearest Neighbors (5)\n",
      "Accuracy: 0.759 (+/- 0.000) || AUROC 0.482 -> SVM-rbf\n",
      "Accuracy: 0.759 (+/- 0.000) || AUROC 0.805 -> Gaussian naive bayes\n",
      "Accuracy: 1.000 (+/- 0.000) || AUROC 1.000 -> Decision Tree\n",
      "Accuracy: 0.759 (+/- 0.000) || AUROC 0.528 -> Multi-layer Perceptron\n",
      "Accuracy: 1.000 (+/- 0.000) || AUROC 1.000 -> AdaBoost\n",
      "Accuracy: 1.000 (+/- 0.000) || AUROC 1.000 -> Random Forest\n"
     ]
    }
   ],
   "source": [
    "evaluateTechnique(discretize)"
   ]
  },
  {
   "cell_type": "code",
   "execution_count": 20,
   "metadata": {},
   "outputs": [
    {
     "name": "stdout",
     "output_type": "stream",
     "text": [
      "Accuracy: 0.759 (+/- 0.000) || AUROC 0.507 -> Logistic regression\n",
      "Accuracy: 0.552 (+/- 0.508) || AUROC 0.508 -> SGDClassifier\n",
      "Accuracy: 0.718 (+/- 0.007) || AUROC 0.562 -> KNearest Neighbors (5)\n",
      "Accuracy: 0.759 (+/- 0.000) || AUROC 0.485 -> SVM-rbf\n",
      "Accuracy: 0.759 (+/- 0.000) || AUROC 0.803 -> Gaussian naive bayes\n",
      "Accuracy: 1.000 (+/- 0.000) || AUROC 1.000 -> Decision Tree\n",
      "Accuracy: 0.764 (+/- 0.019) || AUROC 0.569 -> Multi-layer Perceptron\n",
      "Accuracy: 1.000 (+/- 0.000) || AUROC 1.000 -> AdaBoost\n",
      "Accuracy: 1.000 (+/- 0.000) || AUROC 1.000 -> Random Forest\n"
     ]
    }
   ],
   "source": [
    "evaluateTechnique(normalize)"
   ]
  },
  {
   "cell_type": "markdown",
   "metadata": {},
   "source": [
    "# Avaliação com os conjunto de dados de teste"
   ]
  },
  {
   "cell_type": "markdown",
   "metadata": {},
   "source": [
    "# Standardization"
   ]
  },
  {
   "cell_type": "code",
   "execution_count": 1,
   "metadata": {},
   "outputs": [],
   "source": [
    "def standardScalingTest(train,test): \n",
    "    ftd = ['age', 'hours-per-week', 'education-num', 'capital-diff']\n",
    "    scaler = StandardScaler()\n",
    "    scaled_data = scaler.fit_transform(train[ftd] )\n",
    "    scaled_test = scaler.transform(test[ftd])\n",
    "    return scaled_data, scaled_test;\n",
    "\n",
    "def robustScalingTest(train,test):\n",
    "    ftd = ['age', 'hours-per-week', 'education-num', 'capital-diff']\n",
    "    scaler = RobustScaler()\n",
    "    scaled_data = scaler.fit_transform(train[ftd])\n",
    "    scaled_test = scaler.transform(test[ftd])\n",
    "    return scaled_data, scaled_test;"
   ]
  },
  {
   "cell_type": "markdown",
   "metadata": {},
   "source": [
    "# Discretization"
   ]
  },
  {
   "cell_type": "code",
   "execution_count": 2,
   "metadata": {},
   "outputs": [],
   "source": [
    "def discretizeTest(train, test):\n",
    "    ftd = ['age', 'hours-per-week', 'education-num', 'capital-diff']\n",
    "    discretizer = KBinsDiscretizer(n_bins=5, encode='ordinal', strategy='uniform')\n",
    "    train[ftd] = discretizer.fit_transform(train[ftd])\n",
    "    test[ftd] = discretizer.transform(test[ftd])\n",
    "    return train, test;"
   ]
  },
  {
   "cell_type": "markdown",
   "metadata": {},
   "source": [
    "# Normalization "
   ]
  },
  {
   "cell_type": "code",
   "execution_count": 3,
   "metadata": {},
   "outputs": [],
   "source": [
    "def normalizeTest(train,test):\n",
    "    normalizer = Normalizer()\n",
    "    train = normalizer.fit_transform(train)\n",
    "    test = normalizer.transform(test)\n",
    "    return train, test;"
   ]
  },
  {
   "cell_type": "markdown",
   "metadata": {},
   "source": [
    "# Avaliação"
   ]
  },
  {
   "cell_type": "code",
   "execution_count": 8,
   "metadata": {},
   "outputs": [],
   "source": [
    "def evaluateTechniqueTestData(transformer):\n",
    "    \n",
    "    X_train = salaryClassification\n",
    "    y_train = salaryClassification['salary-classification']\n",
    "\n",
    "    X_test = testData\n",
    "    y_test = testData['salary-classification']\n",
    "    \n",
    "    \n",
    "    X_train, X_test = transformer(X_train, X_test)\n",
    "\n",
    "    \n",
    "    classifiers = [\n",
    "        LogisticRegression(max_iter=100),\n",
    "        SGDClassifier(),\n",
    "        KNeighborsClassifier(n_neighbors=5),\n",
    "        SVC(),\n",
    "        LinearSVC(max_iter=10000),\n",
    "        GaussianNB(),\n",
    "        DecisionTreeClassifier(),\n",
    "        MLPClassifier(max_iter=10000),\n",
    "        AdaBoostClassifier(),\n",
    "        RandomForestClassifier(),\n",
    "    ]\n",
    "\n",
    "    names = [\n",
    "             \"Logistic regression\", \"SGDClassifier\",\n",
    "             \"KNearest Neighbors (5)\", \n",
    "             \"SVM-rbf\", \"SMV-linear\", \n",
    "             \"Gaussian naive bayes\",\n",
    "             \"Decision Tree\", \n",
    "             \"Multi-layer Perceptron\", \n",
    "             \"AdaBoost\", \"Random Forest\"]\n",
    "\n",
    "\n",
    "    for name, clf in zip(names, classifiers):\n",
    "        clf.fit(X_train, y_train)\n",
    "        predicted = clf.predict(X_test)\n",
    "        evaluateModel(name, y_test, predicted)    \n",
    "    return;  \n",
    "\n",
    "\n",
    "def evaluateModel(name, y_test, predicted):\n",
    "    print(\"Accuracy: %0.3f || AUROC %0.3f || (Accuracy, Precision) 0:( %0.3f, %0.3f)  1:( %0.3f, %0.3f) ->\" \n",
    "              % (accuracy_score(y_test,predicted), roc_auc_score(y_test, predicted),\n",
    "                recall_score(y_test,predicted,pos_label=0), precision_score(y_test,predicted,pos_label=0),\n",
    "                recall_score(y_test,predicted,pos_label=1), precision_score(y_test,predicted,pos_label=1)), name)\n",
    "    return;"
   ]
  },
  {
   "cell_type": "code",
   "execution_count": 9,
   "metadata": {},
   "outputs": [
    {
     "name": "stdout",
     "output_type": "stream",
     "text": [
      "Accuracy: 0.807 || AUROC 0.653 || (Accuracy, Precision) 0:( 0.945, 0.827)  1:( 0.361, 0.669) -> Logistic regression\n",
      "Accuracy: 0.802 || AUROC 0.588 || (Accuracy, Precision) 0:( 0.993, 0.797)  1:( 0.182, 0.896) -> SGDClassifier\n",
      "Accuracy: 0.806 || AUROC 0.684 || (Accuracy, Precision) 0:( 0.916, 0.844)  1:( 0.451, 0.625) -> KNearest Neighbors (5)\n",
      "Accuracy: 0.822 || AUROC 0.663 || (Accuracy, Precision) 0:( 0.965, 0.830)  1:( 0.362, 0.762) -> SVM-rbf\n",
      "Accuracy: 0.806 || AUROC 0.636 || (Accuracy, Precision) 0:( 0.958, 0.819)  1:( 0.314, 0.698) -> SMV-linear\n",
      "Accuracy: 0.801 || AUROC 0.605 || (Accuracy, Precision) 0:( 0.977, 0.804)  1:( 0.232, 0.754) -> Gaussian naive bayes\n",
      "Accuracy: 0.819 || AUROC 0.697 || (Accuracy, Precision) 0:( 0.928, 0.849)  1:( 0.465, 0.667) -> Decision Tree\n",
      "Accuracy: 0.825 || AUROC 0.694 || (Accuracy, Precision) 0:( 0.943, 0.846)  1:( 0.444, 0.708) -> Multi-layer Perceptron\n",
      "Accuracy: 0.834 || AUROC 0.687 || (Accuracy, Precision) 0:( 0.965, 0.841)  1:( 0.410, 0.784) -> AdaBoost\n",
      "Accuracy: 0.825 || AUROC 0.706 || (Accuracy, Precision) 0:( 0.931, 0.853)  1:( 0.482, 0.682) -> Random Forest\n"
     ]
    }
   ],
   "source": [
    "evaluateTechniqueTestData(standardScalingTest)"
   ]
  },
  {
   "cell_type": "code",
   "execution_count": 10,
   "metadata": {},
   "outputs": [
    {
     "name": "stderr",
     "output_type": "stream",
     "text": [
      "/opt/anaconda3/lib/python3.8/site-packages/sklearn/metrics/_classification.py:1221: UndefinedMetricWarning: Precision is ill-defined and being set to 0.0 due to no predicted samples. Use `zero_division` parameter to control this behavior.\n",
      "  _warn_prf(average, modifier, msg_start, len(result))\n"
     ]
    },
    {
     "name": "stdout",
     "output_type": "stream",
     "text": [
      "Accuracy: 0.764 || AUROC 0.500 || (Accuracy, Precision) 0:( 1.000, 0.764)  1:( 0.000, 0.000) -> Logistic regression\n"
     ]
    },
    {
     "name": "stderr",
     "output_type": "stream",
     "text": [
      "/opt/anaconda3/lib/python3.8/site-packages/sklearn/metrics/_classification.py:1221: UndefinedMetricWarning: Precision is ill-defined and being set to 0.0 due to no predicted samples. Use `zero_division` parameter to control this behavior.\n",
      "  _warn_prf(average, modifier, msg_start, len(result))\n"
     ]
    },
    {
     "name": "stdout",
     "output_type": "stream",
     "text": [
      "Accuracy: 0.764 || AUROC 0.500 || (Accuracy, Precision) 0:( 1.000, 0.764)  1:( 0.000, 0.000) -> SGDClassifier\n",
      "Accuracy: 0.722 || AUROC 0.538 || (Accuracy, Precision) 0:( 0.887, 0.779)  1:( 0.188, 0.340) -> KNearest Neighbors (5)\n"
     ]
    },
    {
     "name": "stderr",
     "output_type": "stream",
     "text": [
      "/opt/anaconda3/lib/python3.8/site-packages/sklearn/metrics/_classification.py:1221: UndefinedMetricWarning: Precision is ill-defined and being set to 0.0 due to no predicted samples. Use `zero_division` parameter to control this behavior.\n",
      "  _warn_prf(average, modifier, msg_start, len(result))\n"
     ]
    },
    {
     "name": "stdout",
     "output_type": "stream",
     "text": [
      "Accuracy: 0.764 || AUROC 0.500 || (Accuracy, Precision) 0:( 1.000, 0.764)  1:( 0.000, 0.000) -> SVM-rbf\n"
     ]
    },
    {
     "name": "stderr",
     "output_type": "stream",
     "text": [
      "/opt/anaconda3/lib/python3.8/site-packages/sklearn/svm/_base.py:976: ConvergenceWarning: Liblinear failed to converge, increase the number of iterations.\n",
      "  warnings.warn(\"Liblinear failed to converge, increase \"\n",
      "/opt/anaconda3/lib/python3.8/site-packages/sklearn/metrics/_classification.py:1221: UndefinedMetricWarning: Precision is ill-defined and being set to 0.0 due to no predicted samples. Use `zero_division` parameter to control this behavior.\n",
      "  _warn_prf(average, modifier, msg_start, len(result))\n",
      "/opt/anaconda3/lib/python3.8/site-packages/sklearn/metrics/_classification.py:1221: UndefinedMetricWarning: Precision is ill-defined and being set to 0.0 due to no predicted samples. Use `zero_division` parameter to control this behavior.\n",
      "  _warn_prf(average, modifier, msg_start, len(result))\n"
     ]
    },
    {
     "name": "stdout",
     "output_type": "stream",
     "text": [
      "Accuracy: 0.764 || AUROC 0.500 || (Accuracy, Precision) 0:( 1.000, 0.764)  1:( 0.000, 0.000) -> SMV-linear\n",
      "Accuracy: 0.764 || AUROC 0.500 || (Accuracy, Precision) 0:( 1.000, 0.764)  1:( 0.000, 0.000) -> Gaussian naive bayes\n",
      "Accuracy: 1.000 || AUROC 1.000 || (Accuracy, Precision) 0:( 1.000, 1.000)  1:( 1.000, 1.000) -> Decision Tree\n",
      "Accuracy: 0.780 || AUROC 0.540 || (Accuracy, Precision) 0:( 0.996, 0.778)  1:( 0.084, 0.866) -> Multi-layer Perceptron\n",
      "Accuracy: 1.000 || AUROC 1.000 || (Accuracy, Precision) 0:( 1.000, 1.000)  1:( 1.000, 1.000) -> AdaBoost\n",
      "Accuracy: 1.000 || AUROC 1.000 || (Accuracy, Precision) 0:( 1.000, 1.000)  1:( 1.000, 1.000) -> Random Forest\n"
     ]
    }
   ],
   "source": [
    "evaluateTechniqueTestData(discretizeTest)"
   ]
  },
  {
   "cell_type": "code",
   "execution_count": 11,
   "metadata": {},
   "outputs": [
    {
     "name": "stdout",
     "output_type": "stream",
     "text": [
      "Accuracy: 0.764 || AUROC 0.500 || (Accuracy, Precision) 0:( 1.000, 0.764)  1:( 0.000, 0.000) -> Logistic regression\n",
      "Accuracy: 0.764 || AUROC 0.500 || (Accuracy, Precision) 0:( 1.000, 0.764)  1:( 0.000, 0.000) -> SGDClassifier\n"
     ]
    },
    {
     "name": "stderr",
     "output_type": "stream",
     "text": [
      "/opt/anaconda3/lib/python3.8/site-packages/sklearn/metrics/_classification.py:1221: UndefinedMetricWarning: Precision is ill-defined and being set to 0.0 due to no predicted samples. Use `zero_division` parameter to control this behavior.\n",
      "  _warn_prf(average, modifier, msg_start, len(result))\n",
      "/opt/anaconda3/lib/python3.8/site-packages/sklearn/metrics/_classification.py:1221: UndefinedMetricWarning: Precision is ill-defined and being set to 0.0 due to no predicted samples. Use `zero_division` parameter to control this behavior.\n",
      "  _warn_prf(average, modifier, msg_start, len(result))\n"
     ]
    },
    {
     "name": "stdout",
     "output_type": "stream",
     "text": [
      "Accuracy: 0.871 || AUROC 0.804 || (Accuracy, Precision) 0:( 0.931, 0.903)  1:( 0.678, 0.752) -> KNearest Neighbors (5)\n"
     ]
    },
    {
     "name": "stderr",
     "output_type": "stream",
     "text": [
      "/opt/anaconda3/lib/python3.8/site-packages/sklearn/metrics/_classification.py:1221: UndefinedMetricWarning: Precision is ill-defined and being set to 0.0 due to no predicted samples. Use `zero_division` parameter to control this behavior.\n",
      "  _warn_prf(average, modifier, msg_start, len(result))\n"
     ]
    },
    {
     "name": "stdout",
     "output_type": "stream",
     "text": [
      "Accuracy: 0.764 || AUROC 0.500 || (Accuracy, Precision) 0:( 1.000, 0.764)  1:( 0.000, 0.000) -> SVM-rbf\n"
     ]
    },
    {
     "name": "stderr",
     "output_type": "stream",
     "text": [
      "/opt/anaconda3/lib/python3.8/site-packages/sklearn/metrics/_classification.py:1221: UndefinedMetricWarning: Precision is ill-defined and being set to 0.0 due to no predicted samples. Use `zero_division` parameter to control this behavior.\n",
      "  _warn_prf(average, modifier, msg_start, len(result))\n"
     ]
    },
    {
     "name": "stdout",
     "output_type": "stream",
     "text": [
      "Accuracy: 0.764 || AUROC 0.500 || (Accuracy, Precision) 0:( 1.000, 0.764)  1:( 0.000, 0.000) -> SMV-linear\n",
      "Accuracy: 1.000 || AUROC 1.000 || (Accuracy, Precision) 0:( 0.999, 1.000)  1:( 1.000, 0.998) -> Gaussian naive bayes\n",
      "Accuracy: 1.000 || AUROC 1.000 || (Accuracy, Precision) 0:( 1.000, 1.000)  1:( 1.000, 1.000) -> Decision Tree\n"
     ]
    },
    {
     "name": "stderr",
     "output_type": "stream",
     "text": [
      "/opt/anaconda3/lib/python3.8/site-packages/sklearn/metrics/_classification.py:1221: UndefinedMetricWarning: Precision is ill-defined and being set to 0.0 due to no predicted samples. Use `zero_division` parameter to control this behavior.\n",
      "  _warn_prf(average, modifier, msg_start, len(result))\n"
     ]
    },
    {
     "name": "stdout",
     "output_type": "stream",
     "text": [
      "Accuracy: 0.764 || AUROC 0.500 || (Accuracy, Precision) 0:( 1.000, 0.764)  1:( 0.000, 0.000) -> Multi-layer Perceptron\n",
      "Accuracy: 1.000 || AUROC 1.000 || (Accuracy, Precision) 0:( 1.000, 1.000)  1:( 1.000, 1.000) -> AdaBoost\n",
      "Accuracy: 1.000 || AUROC 1.000 || (Accuracy, Precision) 0:( 1.000, 1.000)  1:( 1.000, 1.000) -> Random Forest\n"
     ]
    }
   ],
   "source": [
    "evaluateTechniqueTestData(normalizeTest)"
   ]
  },
  {
   "cell_type": "code",
   "execution_count": null,
   "metadata": {},
   "outputs": [],
   "source": []
  },
  {
   "cell_type": "code",
   "execution_count": null,
   "metadata": {},
   "outputs": [],
   "source": []
  }
 ],
 "metadata": {
  "kernelspec": {
   "display_name": "Python 3",
   "language": "python",
   "name": "python3"
  },
  "language_info": {
   "codemirror_mode": {
    "name": "ipython",
    "version": 3
   },
   "file_extension": ".py",
   "mimetype": "text/x-python",
   "name": "python",
   "nbconvert_exporter": "python",
   "pygments_lexer": "ipython3",
   "version": "3.8.3"
  }
 },
 "nbformat": 4,
 "nbformat_minor": 4
}
