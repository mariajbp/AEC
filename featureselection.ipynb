{
 "cells": [
  {
   "cell_type": "code",
   "execution_count": 1,
   "metadata": {},
   "outputs": [],
   "source": [
    "import pandas as pd\n",
    "import numpy as np\n",
    "import matplotlib.pyplot as plt\n",
    "import seaborn as sns\n",
    "from imblearn.over_sampling import RandomOverSampler\n",
    "from sklearn.preprocessing import  RobustScaler\n",
    "from sklearn.feature_selection import VarianceThreshold\n",
    "from sklearn.feature_selection import SelectKBest, SelectPercentile, GenericUnivariateSelect\n",
    "from sklearn.feature_selection import RFE, RFECV\n",
    "from sklearn.feature_selection import SelectFromModel\n",
    "from sklearn.utils import shuffle\n",
    "from sklearn.ensemble import ExtraTreesClassifier\n",
    "from sklearn.feature_selection import f_classif, chi2\n",
    "from sklearn.decomposition import PCA\n",
    "from sklearn.naive_bayes import GaussianNB\n",
    "from sklearn.neighbors import KNeighborsClassifier\n",
    "from sklearn.neural_network import MLPClassifier\n",
    "from sklearn.svm import SVC, LinearSVC\n",
    "from sklearn.tree import DecisionTreeClassifier\n",
    "from sklearn.gaussian_process import GaussianProcessClassifier\n",
    "from sklearn.linear_model import LogisticRegression, LinearRegression, SGDClassifier, LassoCV\n",
    "from sklearn.ensemble import RandomForestClassifier, AdaBoostClassifier\n",
    "from sklearn.metrics import accuracy_score, precision_score, recall_score, roc_auc_score\n",
    "from sklearn.exceptions import ConvergenceWarning\n",
    "from sklearn.preprocessing import OrdinalEncoder\n",
    "%matplotlib inline\n",
    "\n",
    "\n",
    "\n",
    "# import warnings filter\n",
    "from warnings import simplefilter\n",
    "# ignore all future warnings\n",
    "simplefilter(action='ignore', category=FutureWarning)"
   ]
  },
  {
   "cell_type": "markdown",
   "metadata": {},
   "source": [
    "### Load train dataset"
   ]
  },
  {
   "cell_type": "code",
   "execution_count": 2,
   "metadata": {},
   "outputs": [],
   "source": [
    "salaryClassification = pd.read_csv('data/training.csv', sep = ';')\n",
    "\n",
    "#treat missing values\n",
    "salaryClassification = salaryClassification.replace(' ?', np.NaN)\n",
    "salaryClassification[' workclass'] = salaryClassification[' workclass'].replace(np.NaN, 'Unknown')\n",
    "salaryClassification[' occupation'] = salaryClassification[' occupation'].replace(np.NaN, 'Other')\n",
    "salaryClassification[' native-country'] = salaryClassification[' native-country'].replace(np.NaN, 'Other')\n",
    "\n",
    "\n",
    "#convert 'workclass' from categorical to numeric\n",
    "oe = OrdinalEncoder()\n",
    "salaryClassification[\"workclass\"] = oe.fit_transform(salaryClassification[[\" workclass\"]]).astype(int)\n",
    "salaryClassification = salaryClassification.drop(' workclass', 1)\n",
    "\n",
    "#fix column names\n",
    "salaryClassification['fnlwgt'] = salaryClassification[' fnlwgt']\n",
    "salaryClassification = salaryClassification.drop(' fnlwgt',1)\n",
    "\n",
    "#convert 'education' from categorical to numeric\n",
    "oe = OrdinalEncoder()\n",
    "salaryClassification[\"education\"] = oe.fit_transform(salaryClassification[[\" education\"]]).astype(int)\n",
    "salaryClassification = salaryClassification.drop(' education', 1)\n",
    "\n",
    "#fix column names\n",
    "salaryClassification['education-num'] = salaryClassification[' education-num']\n",
    "salaryClassification = salaryClassification.drop(' education-num',1)\n",
    "\n",
    "#convert 'education' from categorical to numeric\n",
    "oe = OrdinalEncoder()\n",
    "salaryClassification[\"marital-status\"] = oe.fit_transform(salaryClassification[[\" marital-status\"]]).astype(int)\n",
    "salaryClassification = salaryClassification.drop(' marital-status', 1)\n",
    "\n",
    "#convert 'occupation'n' from categorical to numeric\n",
    "oe = OrdinalEncoder()\n",
    "salaryClassification[\"occupation\"] = oe.fit_transform(salaryClassification[[\" occupation\"]]).astype(int)\n",
    "salaryClassification = salaryClassification.drop(' occupation', 1)\n",
    "\n",
    "#convert 'relationship'n' from categorical to numeric\n",
    "oe = OrdinalEncoder()\n",
    "salaryClassification[\"relationship\"] = oe.fit_transform(salaryClassification[[\" relationship\"]]).astype(int)\n",
    "salaryClassification = salaryClassification.drop(' relationship', 1)\n",
    "\n",
    "#convert 'race'n' from categorical to numeric\n",
    "oe = OrdinalEncoder()\n",
    "salaryClassification[\"race\"] = oe.fit_transform(salaryClassification[[\" race\"]]).astype(int)\n",
    "salaryClassification = salaryClassification.drop(' race', 1)\n",
    "\n",
    "#convert 'sex'n' from categorical to numeric\n",
    "oe = OrdinalEncoder()\n",
    "salaryClassification[\"sex\"] = oe.fit_transform(salaryClassification[[\" sex\"]]).astype(int)\n",
    "salaryClassification = salaryClassification.drop(' sex', 1)\n",
    "\n",
    "#join 2 columns(capital-gain and  capital-loss) in one\n",
    "salaryClassification['capital-diff'] = salaryClassification[' capital-gain'] - salaryClassification[' capital-loss']\n",
    "salaryClassification = salaryClassification.drop(' capital-gain', 1)\n",
    "salaryClassification = salaryClassification.drop(' capital-loss', 1)\n",
    "\n",
    "#fix column names\n",
    "salaryClassification['hours-per-week'] = salaryClassification[' hours-per-week']\n",
    "salaryClassification = salaryClassification.drop(' hours-per-week',1)\n",
    "\n",
    "\n",
    "#convert 'native-country' from categorical to numeric\n",
    "oe = OrdinalEncoder()\n",
    "salaryClassification[\"native-county\"] = oe.fit_transform(salaryClassification[[\" native-country\"]]).astype(int)\n",
    "salaryClassification = salaryClassification.drop(' native-country', 1)\n",
    "\n",
    "\n",
    "#convert salary-classification' from categorical to numeric\n",
    "salaryClassification[' salary-classification'] = [x.replace(' <=50K', '0') for x in salaryClassification[' salary-classification']]\n",
    "salaryClassification[' salary-classification'] = [x.replace(' >50K', '1') for x in salaryClassification[' salary-classification']]\n",
    "salaryClassification[' salary-classification'] = salaryClassification[' salary-classification'].astype(int)\n",
    "\n",
    "salaryClassification['salary-classification'] = salaryClassification[' salary-classification']\n",
    "salaryClassification = salaryClassification.drop(' salary-classification',1)\n",
    "\n",
    "X_train = salaryClassification.drop('salary-classification', 1)\n",
    "y_train =  salaryClassification['salary-classification']"
   ]
  },
  {
   "cell_type": "markdown",
   "metadata": {},
   "source": [
    "### Load test dataset"
   ]
  },
  {
   "cell_type": "code",
   "execution_count": 3,
   "metadata": {},
   "outputs": [],
   "source": [
    "testData = pd.read_csv('data/test.csv', sep = ';')\n",
    "\n",
    "#treat missing values\n",
    "testData = testData.replace(' ?', np.NaN)\n",
    "testData[' workclass'] = testData[' workclass'].replace(np.NaN, 'Unknown')\n",
    "testData[' occupation'] = testData[' occupation'].replace(np.NaN, 'Other')\n",
    "testData[' native-country'] = testData[' native-country'].replace(np.NaN, 'Other')\n",
    "\n",
    "\n",
    "#convert 'workclass' from categorical to numeric\n",
    "oe = OrdinalEncoder()\n",
    "testData[\"workclass\"] = oe.fit_transform(testData[[\" workclass\"]]).astype(int)\n",
    "testData = testData.drop(' workclass', 1)\n",
    "\n",
    "#fix column name\n",
    "testData['fnlwgt'] = testData[' fnlwgt']\n",
    "testData = testData.drop(' fnlwgt',1)\n",
    "\n",
    "#convert 'education' from categorical to numeric\n",
    "oe = OrdinalEncoder()\n",
    "testData[\"education\"] = oe.fit_transform(testData[[\" education\"]]).astype(int)\n",
    "testData = testData.drop(' education', 1)\n",
    "\n",
    "#fix column name\n",
    "testData['education-num'] = testData[' education-num']\n",
    "testData = testData.drop(' education-num',1)\n",
    "\n",
    "#convert 'education' from categorical to numeric\n",
    "oe = OrdinalEncoder()\n",
    "testData[\"marital-status\"] = oe.fit_transform(testData[[\" marital-status\"]]).astype(int)\n",
    "testData = testData.drop(' marital-status', 1)\n",
    "\n",
    "#convert 'occupation'n' from categorical to numeric\n",
    "oe = OrdinalEncoder()\n",
    "testData[\"occupation\"] = oe.fit_transform(testData[[\" occupation\"]]).astype(int)\n",
    "testData = testData.drop(' occupation', 1)\n",
    "\n",
    "#convert 'relationship'n' from categorical to numeric\n",
    "oe = OrdinalEncoder()\n",
    "testData[\"relationship\"] = oe.fit_transform(testData[[\" relationship\"]]).astype(int)\n",
    "testData = testData.drop(' relationship', 1)\n",
    "\n",
    "#convert 'race'n' from categorical to numeric\n",
    "oe = OrdinalEncoder()\n",
    "testData[\"race\"] = oe.fit_transform(testData[[\" race\"]]).astype(int)\n",
    "testData = testData.drop(' race', 1)\n",
    "\n",
    "#convert 'sex'n' from categorical to numeric\n",
    "oe = OrdinalEncoder()\n",
    "testData[\"sex\"] = oe.fit_transform(testData[[\" sex\"]]).astype(int)\n",
    "testData = testData.drop(' sex', 1)\n",
    "\n",
    "#join 2 columns(capital-gain and  capital-loss) in one\n",
    "testData['capital-diff'] = testData[' capital-gain'] - testData[' capital-loss']\n",
    "testData = testData.drop(' capital-gain', 1)\n",
    "testData = testData.drop(' capital-loss', 1)\n",
    "\n",
    "#fix column name\n",
    "testData['hours-per-week'] = testData[' hours-per-week']\n",
    "testData = testData.drop(' hours-per-week',1)\n",
    "\n",
    "\n",
    "#convert 'native-country' from categorical to numeric\n",
    "oe = OrdinalEncoder()\n",
    "testData[\"native-county\"] = oe.fit_transform(testData[[\" native-country\"]]).astype(int)\n",
    "testData = testData.drop(' native-country', 1)\n",
    "\n",
    "\n",
    "#convert salary-classification' from categorical to numeric\n",
    "testData[' salary-classification'] = [x.replace(' <=50K', '0') for x in testData[' salary-classification']]\n",
    "testData[' salary-classification'] = [x.replace(' >50K', '1') for x in testData[' salary-classification']]\n",
    "testData[' salary-classification'] = testData[' salary-classification'].astype(int)\n",
    "\n",
    "testData['salary-classification'] = testData[' salary-classification']\n",
    "testData = testData.drop(' salary-classification',1)\n",
    "\n",
    "X_test = testData.drop('salary-classification', 1)\n",
    "y_test =  testData['salary-classification']"
   ]
  },
  {
   "cell_type": "markdown",
   "metadata": {},
   "source": [
    "### Funções auxiliares"
   ]
  },
  {
   "cell_type": "code",
   "execution_count": 4,
   "metadata": {},
   "outputs": [],
   "source": [
    "def robustScalingTest(train,test):\n",
    "    scaler = RobustScaler()\n",
    "    scaledData = scaler.fit_transform(train)\n",
    "    scaledTest = scaler.transform(test)\n",
    "    return scaledData, scaledTest;\n",
    "\n",
    "def overSampler(X_train, y_train):\n",
    "    ros = RandomOverSampler()\n",
    "    X_balanced, y_train = ros.fit_sample(X_train, y_train)\n",
    "    X_balanced, y_train = shuffle(X_balanced, y_train)\n",
    "    return X_balanced, y_train;\n",
    "\n",
    "def evaluateSelector(featureSelector, selectorName):\n",
    "    X_train = salaryClassification.drop('salary-classification', 1)\n",
    "    y_train =  salaryClassification['salary-classification']\n",
    "    X_test = testData.drop('salary-classification', 1)\n",
    "    y_test =  testData['salary-classification']\n",
    "    \n",
    "  # Feature Selection\n",
    "    X_train_selected, X_test_selected = featureSelector(X_train, y_train, X_test)\n",
    "    \n",
    "    # standardizar\n",
    "    X_train_transformed, X_test_transformed = robustScalingTest(X_train_selected, X_test_selected)\n",
    "    \n",
    "    classifiers = [\n",
    "        LogisticRegression(max_iter=100),\n",
    "        SGDClassifier(), KNeighborsClassifier(n_neighbors=5),\n",
    "        SVC(), GaussianNB(),\n",
    "        DecisionTreeClassifier(), MLPClassifier(max_iter=10000),\n",
    "        AdaBoostClassifier(), RandomForestClassifier(),\n",
    "    ]\n",
    "\n",
    "    names = [\n",
    "             \"Logistic regression\", \"SGDClassifier\",\n",
    "             \"KNearest Neighbors (5)\", \n",
    "             \"SVM-rbf\",\"Gaussian naive bayes\",\n",
    "             \"Decision Tree\", \"Multi-layer Perceptron\", \n",
    "             \"AdaBoost\", \"Random Forest\"\n",
    "    ]\n",
    "    \n",
    "    # Treinar e avaliar modelos\n",
    "    for name, clf in zip(names, classifiers):\n",
    "        clf.fit(X_train_transformed, y_train)\n",
    "        predicted = clf.predict(X_test_transformed)\n",
    "        evaluateModel(name + \" com \" + selectorName, y_test, predicted)\n",
    "    return;\n",
    "\n",
    "def evaluateModelBasedSelector(featureSelector, model, name):\n",
    "    X_train = salaryClassification.drop('salary-classification', 1)\n",
    "    y_train =  salaryClassification['salary-classification']\n",
    "    X_test = testData.drop('salary-classification', 1)\n",
    "    y_test =  testData['salary-classification']\n",
    "\n",
    "    # Feature Selection\n",
    "    X_train_selected, X_test_selected = featureSelector(X_train, y_train, X_test)\n",
    "    \n",
    "    \n",
    "    # Normalizar, discretizar ou standardizar\n",
    "    X_train_transformed, X_test_transformed = robustScalingTest(X_train_selected, X_test_selected)\n",
    "    \n",
    "    # Treinar modelo\n",
    "    model.fit(X_train_transformed, y_train)\n",
    "    \n",
    "    # Prever resultados para test set\n",
    "    predicted = model.predict(X_test_transformed)\n",
    "    \n",
    "    # Avaliar modelo\n",
    "    evaluateModel(name, y_test, predicted)\n",
    "    return;\n",
    "\n",
    "def evaluateModel(name, y_test, predicted):\n",
    "    print(\"Accuracy: %0.3f | AUROC %0.3f | (Accuracy, Precision) 0:( %0.3f, %0.3f)  1:( %0.3f, %0.3f) ||\" \n",
    "              % (accuracy_score(y_test,predicted), roc_auc_score(y_test, predicted),\n",
    "                recall_score(y_test,predicted,pos_label=0), precision_score(y_test,predicted,pos_label=0),\n",
    "                recall_score(y_test,predicted,pos_label=1), precision_score(y_test,predicted,pos_label=1)), name)\n",
    "    return;\n",
    "\n",
    "\n",
    "def getPickedFeatures(selector, data):\n",
    "    selected_features_index = selector.get_support(indices=True)\n",
    "    dropped_features_index = list( set(list(range(0, data.columns.size))) - (set(selected_features_index)))\n",
    "\n",
    "    selected_features_names = list(data.columns[selected_features_index])\n",
    "    return selected_features_names;\n",
    "\n",
    "\n",
    "def getDroppedFeatures(selector, data):\n",
    "    selected_features_index = selector.get_support(indices=True)\n",
    "    dropped_features_index = list( set(list(range(0, data.columns.size))) - (set(selected_features_index)))\n",
    "\n",
    "    dropped_features_names = list(data.columns[dropped_features_index])\n",
    "    return dropped_features_names;\n",
    "\n",
    "\n",
    "def printFeatureSelection(selector, data):\n",
    "    selected_features_index = selector.get_support(indices=True)\n",
    "    dropped_features_index = list( set(list(range(0, data.columns.size))) - (set(selected_features_index)))\n",
    "\n",
    "    selected_features_names = zip(selected_features_index,  list(data.columns[selected_features_index]))\n",
    "    dropped_features_names = zip(dropped_features_index, list(data.columns[dropped_features_index]))\n",
    "\n",
    "    print(\"Features mantidas:\")\n",
    "    for cn in selected_features_names:\n",
    "        print(\"\\t\" + str(cn))\n",
    "\n",
    "    print(\"Features eliminadas:\")\n",
    "    for cn in dropped_features_names:\n",
    "        print(\"\\t\" + str(cn))\n",
    "    return;"
   ]
  },
  {
   "cell_type": "markdown",
   "metadata": {},
   "source": [
    "# Feature Selection"
   ]
  },
  {
   "cell_type": "markdown",
   "metadata": {},
   "source": [
    "## VarianceThreshold"
   ]
  },
  {
   "cell_type": "code",
   "execution_count": 5,
   "metadata": {},
   "outputs": [],
   "source": [
    "def selectVarianceThreshold(X_train, y_train, X_test):\n",
    "    varianceThreshold_selector = VarianceThreshold()\n",
    "    selector = varianceThreshold_selector.fit(X_train, y_train)\n",
    "    printFeatureSelection(selector, X_train)\n",
    "    X_train_selected = varianceThreshold_selector.transform(X_train)\n",
    "    X_test_selected = varianceThreshold_selector.transform(X_test)\n",
    "    \n",
    "    return X_train_selected, X_test_selected;"
   ]
  },
  {
   "cell_type": "code",
   "execution_count": 16,
   "metadata": {},
   "outputs": [
    {
     "name": "stdout",
     "output_type": "stream",
     "text": [
      "Features mantidas:\n",
      "\t(0, 'age')\n",
      "\t(1, 'workclass')\n",
      "\t(2, 'fnlwgt')\n",
      "\t(3, 'education')\n",
      "\t(4, 'education-num')\n",
      "\t(5, 'marital-status')\n",
      "\t(6, 'occupation')\n",
      "\t(7, 'relationship')\n",
      "\t(8, 'race')\n",
      "\t(9, 'sex')\n",
      "\t(10, 'capital-diff')\n",
      "\t(11, 'hours-per-week')\n",
      "\t(12, 'native-county')\n",
      "Features eliminadas:\n",
      "Accuracy: 0.821 | AUROC 0.685 | (Accuracy, Precision) 0:( 0.942, 0.842)  1:( 0.429, 0.695) || Logistic regression com VarianceThreshold\n",
      "Accuracy: 0.753 | AUROC 0.690 | (Accuracy, Precision) 0:( 0.810, 0.859)  1:( 0.570, 0.481) || SGDClassifier com VarianceThreshold\n",
      "Accuracy: 0.846 | AUROC 0.767 | (Accuracy, Precision) 0:( 0.916, 0.886)  1:( 0.617, 0.695) || KNearest Neighbors (5) com VarianceThreshold\n",
      "Accuracy: 0.802 | AUROC 0.618 | (Accuracy, Precision) 0:( 0.968, 0.810)  1:( 0.269, 0.719) || SVM-rbf com VarianceThreshold\n",
      "Accuracy: 0.817 | AUROC 0.646 | (Accuracy, Precision) 0:( 0.970, 0.822)  1:( 0.323, 0.768) || Gaussian naive bayes com VarianceThreshold\n",
      "Accuracy: 0.808 | AUROC 0.738 | (Accuracy, Precision) 0:( 0.870, 0.877)  1:( 0.605, 0.591) || Decision Tree com VarianceThreshold\n",
      "Accuracy: 0.842 | AUROC 0.752 | (Accuracy, Precision) 0:( 0.922, 0.877)  1:( 0.582, 0.699) || Multi-layer Perceptron com VarianceThreshold\n",
      "Accuracy: 0.861 | AUROC 0.769 | (Accuracy, Precision) 0:( 0.942, 0.883)  1:( 0.597, 0.761) || AdaBoost com VarianceThreshold\n",
      "Accuracy: 0.852 | AUROC 0.766 | (Accuracy, Precision) 0:( 0.930, 0.883)  1:( 0.602, 0.726) || Random Forest com VarianceThreshold\n"
     ]
    }
   ],
   "source": [
    "# Remove features with low variance\n",
    "\n",
    "evaluateSelector(selectVarianceThreshold, \"VarianceThreshold\")"
   ]
  },
  {
   "cell_type": "markdown",
   "metadata": {},
   "source": [
    "## SelectKBest\n",
    "\n",
    "Select K value"
   ]
  },
  {
   "cell_type": "code",
   "execution_count": 17,
   "metadata": {},
   "outputs": [],
   "source": [
    "kbest_svc_accuracy = []\n",
    "kbest_knn_accuracy = []\n",
    "kbest_logreg_accuracy = []\n",
    "\n",
    "for i in range(1,14):    \n",
    "    X_train_transformed, X_test_transformed = robustScalingTest(X_train, X_test)\n",
    "    X_train_balanced, y_train_balanced = overSampler(X_train_transformed, y_train)\n",
    "    \n",
    "    selectKBest = SelectKBest(f_classif, k=i)\n",
    "    selectKBest.fit(X_train_balanced,y_train_balanced)\n",
    "    X_train_selected = selectKBest.transform(X_train_balanced)\n",
    "    X_test_selected = selectKBest.transform(X_test_transformed)\n",
    "    \n",
    "    svc = SVC().fit(X_train_selected, y_train_balanced)\n",
    "    pred_i_svc_kbest = svc.predict(X_test_selected)\n",
    "    pred_i_svc_kbest_accuracy = accuracy_score(y_test, pred_i_svc_kbest)\n",
    "    kbest_svc_accuracy.append(pred_i_svc_kbest_accuracy)\n",
    "\n",
    "    knn = KNeighborsClassifier(n_neighbors=5).fit(X_train_selected, y_train_balanced)\n",
    "    pred_i_knn_kbest = knn.predict(X_test_selected)\n",
    "    pred_i_knn_kbest_accuracy = accuracy_score(y_test, pred_i_knn_kbest)\n",
    "    kbest_knn_accuracy.append(pred_i_knn_kbest_accuracy)\n",
    "\n",
    "    logreg = LogisticRegression(max_iter=10000).fit(X_train_selected, y_train_balanced)\n",
    "    pred_i_logreg_kbest = logreg.predict(X_test_selected)\n",
    "    pred_i_logreg_kbest_accuracy = accuracy_score(y_test, pred_i_logreg_kbest)\n",
    "    kbest_logreg_accuracy.append(pred_i_logreg_kbest_accuracy)"
   ]
  },
  {
   "cell_type": "code",
   "execution_count": 18,
   "metadata": {},
   "outputs": [
    {
     "data": {
      "text/plain": [
       "Text(0, 0.5, 'Accuracy')"
      ]
     },
     "execution_count": 18,
     "metadata": {},
     "output_type": "execute_result"
    },
    {
     "data": {
      "image/png": "[encoded data removed]",
      "text/plain": [
       "<Figure size 864x576 with 1 Axes>"
      ]
     },
     "metadata": {
      "needs_background": "light"
     },
     "output_type": "display_data"
    }
   ],
   "source": [
    "plt.figure(figsize=(12,8))\n",
    "plt.plot(range(1,14),kbest_svc_accuracy, color='purple', linestyle='dashed', marker='o',\n",
    "         markerfacecolor='thistle', markersize=10, label='SVC')\n",
    "plt.plot(range(1,14),kbest_knn_accuracy, color='navy', linestyle='dashed', marker='o',\n",
    "         markerfacecolor='cornflowerblue', markersize=10, label='KNeighborsClassifier(5)')\n",
    "plt.plot(range(1,14),kbest_logreg_accuracy, color='black', linestyle='dashed', marker='o',\n",
    "         markerfacecolor='silver', markersize=10, label='LogisticRegression')\n",
    "plt.legend()\n",
    "plt.title('Accuracy vs. K Value')\n",
    "plt.xlabel('K')\n",
    "plt.ylabel('Accuracy')"
   ]
  },
  {
   "cell_type": "code",
   "execution_count": 5,
   "metadata": {},
   "outputs": [],
   "source": [
    "def selectKBest_f_classif(X_train, y_train, X_test):\n",
    "    kbest_selector_f_classif = SelectKBest(f_classif, k=7)\n",
    "    selector = kbest_selector_f_classif.fit(X_train, y_train)\n",
    "    printFeatureSelection(selector, X_train)\n",
    "    X_train_selected = kbest_selector_f_classif.transform(X_train)\n",
    "    X_test_selected = kbest_selector_f_classif.transform(X_test)\n",
    "    \n",
    "    return X_train_selected, X_test_selected;\n",
    "\n",
    "def selectKBest_chi2(X_train, y_train, X_test):\n",
    "    kbest_selector_chi2 = SelectKBest(chi2, k=7)\n",
    "    selector = kbest_selector_chi2.fit(X_train, y_train)\n",
    "    printFeatureSelection(selector, X_train)\n",
    "    X_train_selected = kbest_selector_chi2.transform(X_train)\n",
    "    X_test_selected = kbest_selector_chi2.transform(X_test)\n",
    "    \n",
    "    return X_train_selected, X_test_selected;"
   ]
  },
  {
   "cell_type": "code",
   "execution_count": 8,
   "metadata": {},
   "outputs": [
    {
     "name": "stdout",
     "output_type": "stream",
     "text": [
      "Com f_classif\n",
      "\n",
      "\n",
      "Features mantidas:\n",
      "\t(0, 'age')\n",
      "\t(4, 'education-num')\n",
      "\t(5, 'marital-status')\n",
      "\t(7, 'relationship')\n",
      "\t(9, 'sex')\n",
      "\t(10, 'capital-diff')\n",
      "\t(11, 'hours-per-week')\n",
      "Features eliminadas:\n",
      "\t(1, 'workclass')\n",
      "\t(2, 'fnlwgt')\n",
      "\t(3, 'education')\n",
      "\t(6, 'occupation')\n",
      "\t(8, 'race')\n",
      "\t(12, 'native-county')\n",
      "Accuracy: 0.820 | AUROC 0.685 | (Accuracy, Precision) 0:( 0.940, 0.842)  1:( 0.430, 0.691) || Logistic regression com Select k best f_classif\n",
      "Accuracy: 0.803 | AUROC 0.685 | (Accuracy, Precision) 0:( 0.909, 0.845)  1:( 0.460, 0.610) || SGDClassifier com Select k best f_classif\n",
      "Accuracy: 0.846 | AUROC 0.771 | (Accuracy, Precision) 0:( 0.914, 0.888)  1:( 0.628, 0.693) || KNearest Neighbors (5) com Select k best f_classif\n",
      "Accuracy: 0.802 | AUROC 0.618 | (Accuracy, Precision) 0:( 0.968, 0.810)  1:( 0.269, 0.719) || SVM-rbf com Select k best f_classif\n",
      "Accuracy: 0.808 | AUROC 0.622 | (Accuracy, Precision) 0:( 0.975, 0.812)  1:( 0.270, 0.768) || Gaussian naive bayes com Select k best f_classif\n",
      "Accuracy: 0.830 | AUROC 0.741 | (Accuracy, Precision) 0:( 0.909, 0.873)  1:( 0.573, 0.661) || Decision Tree com Select k best f_classif\n",
      "Accuracy: 0.827 | AUROC 0.726 | (Accuracy, Precision) 0:( 0.917, 0.864)  1:( 0.534, 0.667) || Multi-layer Perceptron com Select k best f_classif\n",
      "Accuracy: 0.856 | AUROC 0.761 | (Accuracy, Precision) 0:( 0.940, 0.879)  1:( 0.583, 0.750) || AdaBoost com Select k best f_classif\n",
      "Accuracy: 0.843 | AUROC 0.758 | (Accuracy, Precision) 0:( 0.919, 0.880)  1:( 0.596, 0.696) || Random Forest com Select k best f_classif\n"
     ]
    }
   ],
   "source": [
    "# Univariate feature selection\n",
    "print(\"Com f_classif\\n\\n\")\n",
    "evaluateSelector(selectKBest_f_classif, \"Select k best f_classif\")"
   ]
  },
  {
   "cell_type": "markdown",
   "metadata": {},
   "source": [
    "## Select Percentile"
   ]
  },
  {
   "cell_type": "code",
   "execution_count": 15,
   "metadata": {},
   "outputs": [],
   "source": [
    "def selectPercentile_f_classif(X_train, y_train, X_test):\n",
    "    percentile_selector_f_classif = SelectPercentile(f_classif, percentile=10)\n",
    "    selector = percentile_selector_f_classif.fit(X_train, y_train)\n",
    "    printFeatureSelection(selector, X_train)\n",
    "    X_train_selected = percentile_selector_f_classif.transform(X_train)\n",
    "    X_test_selected = percentile_selector_f_classif.transform(X_test)\n",
    "    \n",
    "    return X_train_selected, X_test_selected;\n",
    "\n",
    "def selectPercentile_chi2(X_train, y_train, X_test):\n",
    "    percentile_selector_chi2 = SelectPercentile(chi2, percentile=10)\n",
    "    selector = percentile_selector_chi2.fit(X_train, y_train)\n",
    "    printFeatureSelection(selector, X_train)\n",
    "    X_train_selected = percentile_selector_chi2.transform(X_train)\n",
    "    X_test_selected = percentile_selector_chi2.transform(X_test)\n",
    "    \n",
    "    return X_train_selected, X_test_selected;"
   ]
  },
  {
   "cell_type": "code",
   "execution_count": 16,
   "metadata": {},
   "outputs": [
    {
     "name": "stdout",
     "output_type": "stream",
     "text": [
      "Com f_classif\n",
      "\n",
      "\n",
      "Features mantidas:\n",
      "\t(4, 'education-num')\n",
      "\t(7, 'relationship')\n",
      "Features eliminadas:\n",
      "\t(0, 'age')\n",
      "\t(1, 'workclass')\n",
      "\t(2, 'fnlwgt')\n",
      "\t(3, 'education')\n",
      "\t(5, 'marital-status')\n",
      "\t(6, 'occupation')\n",
      "\t(8, 'race')\n",
      "\t(9, 'sex')\n",
      "\t(10, 'capital-diff')\n",
      "\t(11, 'hours-per-week')\n",
      "\t(12, 'native-county')\n",
      "Accuracy: 0.806 | AUROC 0.665 | (Accuracy, Precision) 0:( 0.933, 0.833)  1:( 0.396, 0.646) || Logistic regression com Select Percentile\n",
      "Accuracy: 0.764 | AUROC 0.500 | (Accuracy, Precision) 0:( 1.000, 0.764)  1:( 0.000, 0.000) || SGDClassifier com Select Percentile\n"
     ]
    },
    {
     "name": "stderr",
     "output_type": "stream",
     "text": [
      "/opt/anaconda3/lib/python3.8/site-packages/sklearn/metrics/_classification.py:1221: UndefinedMetricWarning: Precision is ill-defined and being set to 0.0 due to no predicted samples. Use `zero_division` parameter to control this behavior.\n",
      "  _warn_prf(average, modifier, msg_start, len(result))\n"
     ]
    },
    {
     "name": "stdout",
     "output_type": "stream",
     "text": [
      "Accuracy: 0.799 | AUROC 0.688 | (Accuracy, Precision) 0:( 0.899, 0.848)  1:( 0.478, 0.594) || KNearest Neighbors (5) com Select Percentile\n",
      "Accuracy: 0.824 | AUROC 0.694 | (Accuracy, Precision) 0:( 0.940, 0.846)  1:( 0.447, 0.697) || SVM-rbf com Select Percentile\n",
      "Accuracy: 0.806 | AUROC 0.665 | (Accuracy, Precision) 0:( 0.933, 0.833)  1:( 0.396, 0.646) || Gaussian naive bayes com Select Percentile\n",
      "Accuracy: 0.822 | AUROC 0.687 | (Accuracy, Precision) 0:( 0.943, 0.843)  1:( 0.432, 0.700) || Decision Tree com Select Percentile\n",
      "Accuracy: 0.824 | AUROC 0.695 | (Accuracy, Precision) 0:( 0.939, 0.847)  1:( 0.452, 0.695) || Multi-layer Perceptron com Select Percentile\n",
      "Accuracy: 0.822 | AUROC 0.678 | (Accuracy, Precision) 0:( 0.950, 0.838)  1:( 0.407, 0.716) || AdaBoost com Select Percentile\n",
      "Accuracy: 0.822 | AUROC 0.687 | (Accuracy, Precision) 0:( 0.943, 0.843)  1:( 0.432, 0.700) || Random Forest com Select Percentile\n"
     ]
    }
   ],
   "source": [
    "print(\"Com f_classif\\n\\n\")\n",
    "evaluateSelector(selectPercentile_f_classif, \"Select Percentile\")"
   ]
  },
  {
   "cell_type": "markdown",
   "metadata": {},
   "source": [
    "## GenericUnivariateSelect"
   ]
  },
  {
   "cell_type": "code",
   "execution_count": 35,
   "metadata": {},
   "outputs": [],
   "source": [
    "def selectGenericUnivariateSelect(X_train, y_train, X_test):\n",
    "    gus_selector = GenericUnivariateSelect(f_classif, mode='k_best', param=7)\n",
    "    selector = gus_selector.fit(X_train, y_train)\n",
    "    printFeatureSelection(selector, X_train)\n",
    "    X_train_selected = gus_selector.transform(X_train)\n",
    "    X_test_selected = gus_selector.transform(X_test)\n",
    "    \n",
    "    return X_train_selected, X_test_selected;"
   ]
  },
  {
   "cell_type": "code",
   "execution_count": 36,
   "metadata": {},
   "outputs": [
    {
     "name": "stdout",
     "output_type": "stream",
     "text": [
      "Features mantidas:\n",
      "\t(0, 'age')\n",
      "\t(4, 'education-num')\n",
      "\t(5, 'marital-status')\n",
      "\t(7, 'relationship')\n",
      "\t(9, 'sex')\n",
      "\t(10, 'capital-diff')\n",
      "\t(11, 'hours-per-week')\n",
      "Features eliminadas:\n",
      "\t(1, 'workclass')\n",
      "\t(2, 'fnlwgt')\n",
      "\t(3, 'education')\n",
      "\t(6, 'occupation')\n",
      "\t(8, 'race')\n",
      "\t(12, 'native-county')\n",
      "Accuracy: 0.820 | AUROC 0.685 | (Accuracy, Precision) 0:( 0.940, 0.842)  1:( 0.430, 0.691) || Logistic regression com Generic univariate select\n",
      "Accuracy: 0.799 | AUROC 0.691 | (Accuracy, Precision) 0:( 0.894, 0.850)  1:( 0.489, 0.589) || SGDClassifier com Generic univariate select\n",
      "Accuracy: 0.846 | AUROC 0.771 | (Accuracy, Precision) 0:( 0.914, 0.888)  1:( 0.628, 0.693) || KNearest Neighbors (5) com Generic univariate select\n",
      "Accuracy: 0.802 | AUROC 0.618 | (Accuracy, Precision) 0:( 0.968, 0.810)  1:( 0.269, 0.719) || SVM-rbf com Generic univariate select\n",
      "Accuracy: 0.808 | AUROC 0.622 | (Accuracy, Precision) 0:( 0.975, 0.812)  1:( 0.270, 0.768) || Gaussian naive bayes com Generic univariate select\n",
      "Accuracy: 0.829 | AUROC 0.741 | (Accuracy, Precision) 0:( 0.908, 0.873)  1:( 0.573, 0.659) || Decision Tree com Generic univariate select\n",
      "Accuracy: 0.829 | AUROC 0.716 | (Accuracy, Precision) 0:( 0.930, 0.858)  1:( 0.502, 0.688) || Multi-layer Perceptron com Generic univariate select\n",
      "Accuracy: 0.856 | AUROC 0.761 | (Accuracy, Precision) 0:( 0.940, 0.879)  1:( 0.583, 0.750) || AdaBoost com Generic univariate select\n",
      "Accuracy: 0.843 | AUROC 0.759 | (Accuracy, Precision) 0:( 0.917, 0.882)  1:( 0.602, 0.692) || Random Forest com Generic univariate select\n"
     ]
    }
   ],
   "source": [
    "evaluateSelector(selectGenericUnivariateSelect, \"Generic univariate select\")"
   ]
  },
  {
   "cell_type": "markdown",
   "metadata": {},
   "source": [
    "## Recursive Feature Elimination"
   ]
  },
  {
   "cell_type": "code",
   "execution_count": 35,
   "metadata": {},
   "outputs": [],
   "source": [
    "def rfeLogReg(X_train, y_train, X_test):\n",
    "    rfe_log_selector = RFE(LogisticRegression(), 12)\n",
    "    selector = rfe_log_selector.fit(X_train, y_train)\n",
    "    printFeatureSelection(selector, X_train)\n",
    "    X_train_selected = rfe_log_selector.transform(X_train)\n",
    "    X_test_selected = rfe_log_selector.transform(X_test)\n",
    "    \n",
    "    return X_train_selected, X_test_selected;\n",
    "\n",
    "\n",
    "def rfeSVC(X_train, y_train, X_test):\n",
    "    rfe_svc_selector = RFE(SVC(), 12)\n",
    "    selector = rfe_svc_selector.fit(X_train, y_train)\n",
    "    printFeatureSelection(selector, X_train)\n",
    "    X_train_selected = rfe_svc_selector.transform(X_train)\n",
    "    X_test_selected = rfe_svc_selector.transform(X_test)\n",
    "    \n",
    "    return X_train_selected, X_test_selected;"
   ]
  },
  {
   "cell_type": "code",
   "execution_count": 36,
   "metadata": {},
   "outputs": [
    {
     "name": "stderr",
     "output_type": "stream",
     "text": [
      "/opt/anaconda3/lib/python3.8/site-packages/sklearn/linear_model/_logistic.py:762: ConvergenceWarning: lbfgs failed to converge (status=1):\n",
      "STOP: TOTAL NO. of ITERATIONS REACHED LIMIT.\n",
      "\n",
      "Increase the number of iterations (max_iter) or scale the data as shown in:\n",
      "    https://scikit-learn.org/stable/modules/preprocessing.html\n",
      "Please also refer to the documentation for alternative solver options:\n",
      "    https://scikit-learn.org/stable/modules/linear_model.html#logistic-regression\n",
      "  n_iter_i = _check_optimize_result(\n"
     ]
    },
    {
     "name": "stdout",
     "output_type": "stream",
     "text": [
      "Features mantidas:\n",
      "\t(0, 'age')\n",
      "\t(1, 'workclass')\n",
      "\t(3, 'education')\n",
      "\t(4, 'education-num')\n",
      "\t(5, 'marital-status')\n",
      "\t(6, 'occupation')\n",
      "\t(7, 'relationship')\n",
      "\t(8, 'race')\n",
      "\t(9, 'sex')\n",
      "\t(10, 'capital-diff')\n",
      "\t(11, 'hours-per-week')\n",
      "\t(12, 'native-county')\n",
      "Features eliminadas:\n",
      "\t(2, 'fnlwgt')\n",
      "Accuracy: 0.820 | AUROC 0.690 | (Accuracy, Precision) 0:( 0.937, 0.845)  1:( 0.443, 0.683) || Log Reg w/ RFE LogReg\n"
     ]
    },
    {
     "name": "stderr",
     "output_type": "stream",
     "text": [
      "/opt/anaconda3/lib/python3.8/site-packages/sklearn/linear_model/_logistic.py:762: ConvergenceWarning: lbfgs failed to converge (status=1):\n",
      "STOP: TOTAL NO. of ITERATIONS REACHED LIMIT.\n",
      "\n",
      "Increase the number of iterations (max_iter) or scale the data as shown in:\n",
      "    https://scikit-learn.org/stable/modules/preprocessing.html\n",
      "Please also refer to the documentation for alternative solver options:\n",
      "    https://scikit-learn.org/stable/modules/linear_model.html#logistic-regression\n",
      "  n_iter_i = _check_optimize_result(\n"
     ]
    }
   ],
   "source": [
    "# Recursive feature elimination\n",
    "\n",
    "evaluateModelBasedSelector( rfeLogReg,  LogisticRegression(), \"Log Reg w/ RFE LogReg\")"
   ]
  },
  {
   "cell_type": "markdown",
   "metadata": {},
   "source": [
    "## Recursive Feature Elimination w/ Cross Validation"
   ]
  },
  {
   "cell_type": "code",
   "execution_count": 13,
   "metadata": {},
   "outputs": [],
   "source": [
    "def rfeCvLogReg(X_train, y_train, X_test):\n",
    "    rfecv_log_selector = RFECV(LogisticRegression(), 12)\n",
    "    selector = rfecv_log_selector.fit(X_train, y_train)\n",
    "    printFeatureSelection(selector, X_train)\n",
    "    X_train_selected = rfecv_log_selector.transform(X_train)\n",
    "    X_test_selected = rfecv_log_selector.transform(X_test)\n",
    "    \n",
    "    return X_train_selected, X_test_selected;\n",
    "\n",
    "def rfeCvSVC(X_train, y_train, X_test):\n",
    "    rfecv_svc_selector = RFECV(SVC(), 12)\n",
    "    selector = rfecv_svc_selector.fit(X_train, y_train)\n",
    "    printFeatureSelection(selector, X_train)\n",
    "    X_train_selected = rfecv_svc_selector.transform(X_train)\n",
    "    X_test_selected = rfecv_svc_selector.transform(X_test)\n",
    "    \n",
    "    return X_train_selected, X_test_selected;"
   ]
  },
  {
   "cell_type": "code",
   "execution_count": 14,
   "metadata": {},
   "outputs": [
    {
     "name": "stderr",
     "output_type": "stream",
     "text": [
      "/opt/anaconda3/lib/python3.8/site-packages/sklearn/linear_model/_logistic.py:762: ConvergenceWarning: lbfgs failed to converge (status=1):\n",
      "STOP: TOTAL NO. of ITERATIONS REACHED LIMIT.\n",
      "\n",
      "Increase the number of iterations (max_iter) or scale the data as shown in:\n",
      "    https://scikit-learn.org/stable/modules/preprocessing.html\n",
      "Please also refer to the documentation for alternative solver options:\n",
      "    https://scikit-learn.org/stable/modules/linear_model.html#logistic-regression\n",
      "  n_iter_i = _check_optimize_result(\n"
     ]
    },
    {
     "name": "stdout",
     "output_type": "stream",
     "text": [
      "Features mantidas:\n",
      "\t(0, 'age')\n",
      "\t(1, 'workclass')\n",
      "\t(2, 'fnlwgt')\n",
      "\t(3, 'education')\n",
      "\t(4, 'education-num')\n",
      "\t(5, 'marital-status')\n",
      "\t(6, 'occupation')\n",
      "\t(7, 'relationship')\n",
      "\t(8, 'race')\n",
      "\t(9, 'sex')\n",
      "\t(10, 'capital-diff')\n",
      "\t(11, 'hours-per-week')\n",
      "\t(12, 'native-county')\n",
      "Features eliminadas:\n",
      "Accuracy: 0.820 | AUROC 0.690 | (Accuracy, Precision) 0:( 0.937, 0.845)  1:( 0.443, 0.684) || Log Reg w/ RFE Cross Validation LogReg\n"
     ]
    },
    {
     "name": "stderr",
     "output_type": "stream",
     "text": [
      "/opt/anaconda3/lib/python3.8/site-packages/sklearn/linear_model/_logistic.py:762: ConvergenceWarning: lbfgs failed to converge (status=1):\n",
      "STOP: TOTAL NO. of ITERATIONS REACHED LIMIT.\n",
      "\n",
      "Increase the number of iterations (max_iter) or scale the data as shown in:\n",
      "    https://scikit-learn.org/stable/modules/preprocessing.html\n",
      "Please also refer to the documentation for alternative solver options:\n",
      "    https://scikit-learn.org/stable/modules/linear_model.html#logistic-regression\n",
      "  n_iter_i = _check_optimize_result(\n"
     ]
    }
   ],
   "source": [
    "# Recursive feature elimination\n",
    "evaluateModelBasedSelector( rfeCvLogReg, LogisticRegression(), \"Log Reg w/ RFE Cross Validation LogReg\")"
   ]
  },
  {
   "cell_type": "markdown",
   "metadata": {},
   "source": [
    "## SelectFromModel Tree-based"
   ]
  },
  {
   "cell_type": "code",
   "execution_count": 5,
   "metadata": {},
   "outputs": [],
   "source": [
    "def sfmTree(X_train, y_train, X_test):\n",
    "    tree_selector = ExtraTreesClassifier(n_estimators=50)\n",
    "    selector = tree_selector.fit(X_train, y_train)\n",
    "    sfm_Tree_selector = SelectFromModel(tree_selector, prefit=True)\n",
    "    X_train_selected = sfm_Tree_selector.transform(X_train)\n",
    "    X_test_selected = sfm_Tree_selector.transform(X_test)\n",
    "    \n",
    "    return X_train_selected, X_test_selected;"
   ]
  },
  {
   "cell_type": "code",
   "execution_count": 6,
   "metadata": {},
   "outputs": [
    {
     "name": "stdout",
     "output_type": "stream",
     "text": [
      "Accuracy: 0.802 | AUROC 0.618 | (Accuracy, Precision) 0:( 0.968, 0.810)  1:( 0.269, 0.719) || SVC Linear w/ SelectFromModel Tree\n"
     ]
    }
   ],
   "source": [
    "# Feature selection using SelectFromModel\n",
    "\n",
    "evaluateModelBasedSelector( sfmTree, SVC(), \"SVC w/ SelectFromModel Tree\")"
   ]
  },
  {
   "cell_type": "markdown",
   "metadata": {},
   "source": [
    "### PCA"
   ]
  },
  {
   "cell_type": "code",
   "execution_count": 25,
   "metadata": {},
   "outputs": [],
   "source": [
    "def selectPCA(X_train, y_train, X_test):\n",
    "    pca_selector = PCA(n_components=2)\n",
    "    selector = pca_selector.fit(X_train, y_train)\n",
    "    #print(pd.DataFrame(selector.components_,columns=X_train.columns,index = ['0','1']))\n",
    "    X_train_selected = pca_selector.transform(X_train)\n",
    "    X_test_selected = pca_selector.transform(X_test)\n",
    "    \n",
    "    return X_train_selected, X_test_selected;"
   ]
  },
  {
   "cell_type": "code",
   "execution_count": 26,
   "metadata": {},
   "outputs": [
    {
     "name": "stdout",
     "output_type": "stream",
     "text": [
      "Accuracy: 0.804 || AUROC 0.590 || (Accuracy, Precision) 0:( 0.995, 0.798)  1:( 0.185, 0.916) -> Logistic regression com PCA\n",
      "Accuracy: 0.783 || AUROC 0.585 || (Accuracy, Precision) 0:( 0.959, 0.797)  1:( 0.212, 0.615) -> SGDClassifier com PCA\n",
      "Accuracy: 0.806 || AUROC 0.661 || (Accuracy, Precision) 0:( 0.936, 0.831)  1:( 0.385, 0.652) -> KNearest Neighbors (5) com PCA\n",
      "Accuracy: 0.802 || AUROC 0.618 || (Accuracy, Precision) 0:( 0.968, 0.810)  1:( 0.269, 0.719) -> SVM-rbf com PCA\n",
      "Accuracy: 0.796 || AUROC 0.594 || (Accuracy, Precision) 0:( 0.976, 0.800)  1:( 0.213, 0.732) -> Gaussian naive bayes com PCA\n",
      "Accuracy: 0.756 || AUROC 0.664 || (Accuracy, Precision) 0:( 0.839, 0.842)  1:( 0.490, 0.484) -> Decision Tree com PCA\n",
      "Accuracy: 0.786 || AUROC 0.621 || (Accuracy, Precision) 0:( 0.934, 0.814)  1:( 0.308, 0.592) -> Multi-layer Perceptron com PCA\n",
      "Accuracy: 0.821 || AUROC 0.629 || (Accuracy, Precision) 0:( 0.992, 0.814)  1:( 0.267, 0.913) -> AdaBoost com PCA\n",
      "Accuracy: 0.786 || AUROC 0.666 || (Accuracy, Precision) 0:( 0.893, 0.838)  1:( 0.440, 0.559) -> Random Forest com PCA\n"
     ]
    }
   ],
   "source": [
    "evaluateSelector(selectPCA, \"PCA\")"
   ]
  }
 ],
 "metadata": {
  "kernelspec": {
   "display_name": "Python 3",
   "language": "python",
   "name": "python3"
  },
  "language_info": {
   "codemirror_mode": {
    "name": "ipython",
    "version": 3
   },
   "file_extension": ".py",
   "mimetype": "text/x-python",
   "name": "python",
   "nbconvert_exporter": "python",
   "pygments_lexer": "ipython3",
   "version": "3.8.3"
  }
 },
 "nbformat": 4,
 "nbformat_minor": 4
}
