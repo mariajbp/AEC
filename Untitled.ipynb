{
 "cells": [
  {
   "cell_type": "markdown",
   "metadata": {},
   "source": [
    "# Data transformation: Normalization/Standardization/Discretization"
   ]
  },
  {
   "cell_type": "markdown",
   "metadata": {},
   "source": [
    "### Import libraries"
   ]
  },
  {
   "cell_type": "code",
   "execution_count": 2,
   "metadata": {},
   "outputs": [],
   "source": [
    "import pandas as pd\n",
    "import numpy as np\n",
    "import matplotlib.pyplot as plt\n",
    "import seaborn as sns\n",
    "from sklearn.metrics import classification_report\n",
    "from sklearn.metrics import accuracy_score, precision_score, recall_score, roc_auc_score\n",
    "from sklearn.preprocessing import StandardScaler, RobustScaler, Normalizer, KBinsDiscretizer\n",
    "from sklearn import preprocessing\n",
    "from sklearn.model_selection import cross_validate\n",
    "from sklearn.naive_bayes import GaussianNB\n",
    "from sklearn.neighbors import KNeighborsClassifier\n",
    "from sklearn.neural_network import MLPClassifier\n",
    "from sklearn.svm import SVC, LinearSVC\n",
    "from sklearn.tree import DecisionTreeClassifier\n",
    "from sklearn.gaussian_process import GaussianProcessClassifier\n",
    "from sklearn.linear_model import LogisticRegression, LinearRegression, SGDClassifier\n",
    "from sklearn.ensemble import RandomForestClassifier, AdaBoostClassifier\n",
    "\n",
    "%matplotlib inline"
   ]
  },
  {
   "cell_type": "markdown",
   "metadata": {},
   "source": [
    "### Load data"
   ]
  },
  {
   "cell_type": "code",
   "execution_count": 3,
   "metadata": {},
   "outputs": [],
   "source": [
    "salaryClassification = pd.read_csv('data/training.csv', sep = ';')\n",
    "\n",
    "salaryClassification = salaryClassification.replace(' ?', np.NaN)\n",
    "salaryClassification[' workclass'] = salaryClassification[' workclass'].replace(np.NaN, 'Unknown')\n",
    "salaryClassification[' occupation'] = salaryClassification[' occupation'].replace(np.NaN, 'Other')\n",
    "salaryClassification[' native-country'] = salaryClassification[' native-country'].replace(np.NaN, 'Other')\n",
    "salaryClassification[' capital-diff'] = salaryClassification[' capital-gain'] - salaryClassification[' capital-loss']\n",
    "\n",
    "salaryClassification = salaryClassification.drop(' capital-gain', 1)\n",
    "salaryClassification = salaryClassification.drop(' capital-loss', 1)\n",
    "\n",
    "test = pd.read_csv('data/test.csv', sep =';')\n"
   ]
  },
  {
   "cell_type": "markdown",
   "metadata": {},
   "source": [
    "# Standardization"
   ]
  },
  {
   "cell_type": "code",
   "execution_count": 4,
   "metadata": {},
   "outputs": [],
   "source": [
    "def standardScaling(X_train):\n",
    "    ftd = ['age', ' hours-per-week', ' education-num', ' capital-diff']\n",
    "    scaler = StandardScaler()\n",
    "    scaled_data = scaler.fit_transform(X_train[ftd])\n",
    "    return scaled_data;\n",
    "\n",
    "def robustScaling(X_train):\n",
    "    ftd = ['age', ' hours-per-week', ' education-num', ' capital-diff']\n",
    "    scaler = RobustScaler()\n",
    "    scaled_data = scaler.fit_transform(X_train[ftd])\n",
    "    return scaled_data;\n"
   ]
  },
  {
   "cell_type": "markdown",
   "metadata": {},
   "source": [
    "# Discretization"
   ]
  },
  {
   "cell_type": "code",
   "execution_count": 5,
   "metadata": {},
   "outputs": [],
   "source": [
    "def discretize(X_train):\n",
    "    ftd = ['age', ' hours-per-week', ' education-num', ' capital-diff']\n",
    "    discretizer = KBinsDiscretizer(n_bins=3, encode='ordinal', strategy='uniform')\n",
    "    X_train[ftd] = discretizer.fit_transform(X_train[ftd])\n",
    "    return X_train;\n",
    "\n",
    "def discretize2(X_train, X_test):\n",
    "    ftd = ['age', ' hours-per-week', ' education-num', ' capital-diff']\n",
    "    discretizer = KBinsDiscretizer(n_bins=5, encode='ordinal', strategy='uniform')\n",
    "    X_train[ftd] = discretizer.fit_transform(X_train[featuresToDiscretize])\n",
    "    X_test[ftd] = discretizer.transform(X_test[ftd])\n",
    "    return X_train, X_test;"
   ]
  },
  {
   "cell_type": "markdown",
   "metadata": {},
   "source": [
    "# Normalization"
   ]
  },
  {
   "cell_type": "code",
   "execution_count": 6,
   "metadata": {},
   "outputs": [],
   "source": [
    "def normalize(X_train):\n",
    "    ftd = ['age', ' hours-per-week', ' education-num', ' capital-diff']\n",
    "    X_train = transformer = Normalizer().fit_transform(X_train[ftd])\n",
    "    return X_train;\n",
    "\n",
    "def normalize2(X_train, X_test):\n",
    "    ftd = ['age', ' hours-per-week', ' education-num', ' capital-diff']\n",
    "    normalizer = Normalizer()\n",
    "    X_train = normalizer.fit_transform(X_train[ftd])\n",
    "    X_test = normalizer.transform(X_test[ftd])\n",
    "    return X_train, X_test;"
   ]
  },
  {
   "cell_type": "markdown",
   "metadata": {},
   "source": [
    "## Técnica combinada"
   ]
  },
  {
   "cell_type": "code",
   "execution_count": 7,
   "metadata": {},
   "outputs": [],
   "source": [
    "def discretizeAndScale(X_train):\n",
    "    ftd = ['age', ' hours-per-week', ' education-num', ' capital-diff']\n",
    "    X_train = discretize(X_train[ftd])\n",
    "    X_train = robustScaling(X_train[ftd])\n",
    "    return X_train;\n",
    "\n",
    "def discretizeAndScale2(X_train, X_test):\n",
    "    ftd = ['age', ' hours-per-week', ' education-num', ' capital-diff']\n",
    "    X_train = discretize2(X_train[ftd], X_test[ftd])\n",
    "    X_train = robustScaling2(X_train[ftd], X_test[ftd])\n",
    "    return X_train, X_test;\n",
    "\n"
   ]
  },
  {
   "cell_type": "markdown",
   "metadata": {},
   "source": [
    "# Avaliação"
   ]
  },
  {
   "cell_type": "code",
   "execution_count": 10,
   "metadata": {},
   "outputs": [],
   "source": [
    "def evaluateTechnique(transformer):\n",
    "    X_train = salaryClassification\n",
    "    y_train =  salaryClassification[' salary-classification']\n",
    "\n",
    "    X_train = transformer(X_train)\n",
    "    \n",
    "    classifiers = [\n",
    "        LogisticRegression(),\n",
    "        SGDClassifier(),\n",
    "        KNeighborsClassifier(n_neighbors=5),\n",
    "        SVC(),\n",
    "        LinearSVC(max_iter=10000),\n",
    "        GaussianNB(),\n",
    "        DecisionTreeClassifier(),\n",
    "        MLPClassifier(max_iter=10000),\n",
    "        AdaBoostClassifier(),\n",
    "        RandomForestClassifier(),\n",
    "    ]\n",
    "\n",
    "    names = [\"Logistic regression\", \"SGDClassifier\",\n",
    "             \"KNearest Neighbors (5)\", \n",
    "             \"SVM-rbf\", \"SMV-linear\", \n",
    "             \"Gaussian naive bayes\",\n",
    "             \"Decision Tree\", \n",
    "             \"Multi-layer Perceptron\", \n",
    "             \"AdaBoost\", \"Random Forest\"]\n",
    "            \n",
    "\n",
    "\n",
    "    for name, clf in zip(names, classifiers):\n",
    "        scores = cross_validate(clf, X_train, y_train, cv=5, scoring={'accuracy', 'roc_auc'})\n",
    "        print(\"Accuracy: %0.3f (+/- %0.3f) || AUROC %0.3f ->\" % (scores['test_accuracy'].mean(), scores['test_accuracy'].std() * 2, scores['test_roc_auc'].mean()), name)\n",
    "        \n",
    "    return;"
   ]
  },
  {
   "cell_type": "code",
   "execution_count": 11,
   "metadata": {},
   "outputs": [
    {
     "name": "stdout",
     "output_type": "stream",
     "text": [
      "Accuracy: 0.806 (+/- 0.010) || AUROC 0.818 -> Logistic regression\n",
      "Accuracy: 0.798 (+/- 0.004) || AUROC 0.781 -> SGDClassifier\n",
      "Accuracy: 0.802 (+/- 0.004) || AUROC 0.785 -> KNearest Neighbors (5)\n",
      "Accuracy: 0.822 (+/- 0.004) || AUROC 0.831 -> SVM-rbf\n",
      "Accuracy: 0.805 (+/- 0.009) || AUROC 0.817 -> SMV-linear\n",
      "Accuracy: 0.798 (+/- 0.006) || AUROC 0.836 -> Gaussian naive bayes\n",
      "Accuracy: 0.814 (+/- 0.008) || AUROC 0.785 -> Decision Tree\n",
      "Accuracy: 0.827 (+/- 0.005) || AUROC 0.854 -> Multi-layer Perceptron\n",
      "Accuracy: 0.835 (+/- 0.003) || AUROC 0.861 -> AdaBoost\n",
      "Accuracy: 0.820 (+/- 0.004) || AUROC 0.830 -> Random Forest\n"
     ]
    }
   ],
   "source": [
    "evaluateTechnique(standardScaling)"
   ]
  },
  {
   "cell_type": "code",
   "execution_count": null,
   "metadata": {},
   "outputs": [],
   "source": []
  }
 ],
 "metadata": {
  "kernelspec": {
   "display_name": "Python 3",
   "language": "python",
   "name": "python3"
  },
  "language_info": {
   "codemirror_mode": {
    "name": "ipython",
    "version": 3
   },
   "file_extension": ".py",
   "mimetype": "text/x-python",
   "name": "python",
   "nbconvert_exporter": "python",
   "pygments_lexer": "ipython3",
   "version": "3.8.3"
  }
 },
 "nbformat": 4,
 "nbformat_minor": 4
}
